{
  "nbformat": 4,
  "nbformat_minor": 0,
  "metadata": {
    "colab": {
      "name": "Welcome To Colaboratory",
      "provenance": [],
      "collapsed_sections": [],
      "include_colab_link": true
    },
    "kernelspec": {
      "display_name": "Python 3",
      "name": "python3"
    }
  },
  "cells": [
    {
      "cell_type": "markdown",
      "metadata": {
        "id": "view-in-github",
        "colab_type": "text"
      },
      "source": [
        "<a href=\"https://colab.research.google.com/github/EleniAthanasiadou1994/GIS/blob/master/Project.ipynb\" target=\"_parent\"><img src=\"https://colab.research.google.com/assets/colab-badge.svg\" alt=\"Open In Colab\"/></a>"
      ]
    },
    {
      "cell_type": "code",
      "metadata": {
        "id": "MardTIEtJsxx",
        "colab_type": "code",
        "outputId": "a3e46ad5-506b-4194-bcb3-ddddb4d978a1",
        "colab": {
          "base_uri": "https://localhost:8080/",
          "height": 34
        }
      },
      "source": [
        "!pip install pyshp"
      ],
      "execution_count": 2,
      "outputs": [
        {
          "output_type": "stream",
          "text": [
            "Requirement already satisfied: pyshp in /usr/local/lib/python3.6/dist-packages (2.1.0)\n"
          ],
          "name": "stdout"
        }
      ]
    },
    {
      "cell_type": "code",
      "metadata": {
        "id": "dIY5YLpqJ0EI",
        "colab_type": "code",
        "colab": {}
      },
      "source": [
        "import numpy as np\n",
        "import pandas as pd\n",
        "import shapefile as shp\n",
        "import matplotlib.pyplot as plt\n",
        "import seaborn as sns"
      ],
      "execution_count": 0,
      "outputs": []
    },
    {
      "cell_type": "code",
      "metadata": {
        "id": "7GP4Q8aCJ2cB",
        "colab_type": "code",
        "colab": {}
      },
      "source": [
        "sns.set(style=\"whitegrid\", palette=\"pastel\", color_codes=True)\n",
        "sns.mpl.rc(\"figure\", figsize=(10,6))"
      ],
      "execution_count": 0,
      "outputs": []
    },
    {
      "cell_type": "code",
      "metadata": {
        "id": "lrRQYLRHLaIK",
        "colab_type": "code",
        "colab": {}
      },
      "source": [
        "%matplotlib inline"
      ],
      "execution_count": 0,
      "outputs": []
    },
    {
      "cell_type": "code",
      "metadata": {
        "id": "ZLsMu2YKLhFD",
        "colab_type": "code",
        "colab": {}
      },
      "source": [
        "sf = shp.Reader(\"PLI ground replication.shx\")\n"
      ],
      "execution_count": 0,
      "outputs": []
    },
    {
      "cell_type": "code",
      "metadata": {
        "id": "I6RQvJr8f034",
        "colab_type": "code",
        "colab": {
          "base_uri": "https://localhost:8080/",
          "height": 700
        },
        "outputId": "bb98a9f0-a9c0-49d8-f2c1-f4f613700b56"
      },
      "source": [
        "!pip install geopandas\n",
        "import geopandas as gp\n",
        "shp = gp.GeoDataFrame.from_file('PLI ground replication.shx')\n",
        "print (shp)"
      ],
      "execution_count": 23,
      "outputs": [
        {
          "output_type": "stream",
          "text": [
            "Collecting geopandas\n",
            "\u001b[?25l  Downloading https://files.pythonhosted.org/packages/5b/0c/e6c99e561b03482220f00443f610ccf4dce9b50f4b1093d735f93c6fc8c6/geopandas-0.6.2-py2.py3-none-any.whl (919kB)\n",
            "\r\u001b[K     |▍                               | 10kB 16.9MB/s eta 0:00:01\r\u001b[K     |▊                               | 20kB 2.2MB/s eta 0:00:01\r\u001b[K     |█                               | 30kB 3.3MB/s eta 0:00:01\r\u001b[K     |█▍                              | 40kB 2.2MB/s eta 0:00:01\r\u001b[K     |█▉                              | 51kB 2.7MB/s eta 0:00:01\r\u001b[K     |██▏                             | 61kB 3.2MB/s eta 0:00:01\r\u001b[K     |██▌                             | 71kB 3.7MB/s eta 0:00:01\r\u001b[K     |██▉                             | 81kB 4.1MB/s eta 0:00:01\r\u001b[K     |███▏                            | 92kB 4.6MB/s eta 0:00:01\r\u001b[K     |███▋                            | 102kB 3.5MB/s eta 0:00:01\r\u001b[K     |████                            | 112kB 3.5MB/s eta 0:00:01\r\u001b[K     |████▎                           | 122kB 3.5MB/s eta 0:00:01\r\u001b[K     |████▋                           | 133kB 3.5MB/s eta 0:00:01\r\u001b[K     |█████                           | 143kB 3.5MB/s eta 0:00:01\r\u001b[K     |█████▍                          | 153kB 3.5MB/s eta 0:00:01\r\u001b[K     |█████▊                          | 163kB 3.5MB/s eta 0:00:01\r\u001b[K     |██████                          | 174kB 3.5MB/s eta 0:00:01\r\u001b[K     |██████▍                         | 184kB 3.5MB/s eta 0:00:01\r\u001b[K     |██████▊                         | 194kB 3.5MB/s eta 0:00:01\r\u001b[K     |███████▏                        | 204kB 3.5MB/s eta 0:00:01\r\u001b[K     |███████▌                        | 215kB 3.5MB/s eta 0:00:01\r\u001b[K     |███████▉                        | 225kB 3.5MB/s eta 0:00:01\r\u001b[K     |████████▏                       | 235kB 3.5MB/s eta 0:00:01\r\u001b[K     |████████▌                       | 245kB 3.5MB/s eta 0:00:01\r\u001b[K     |█████████                       | 256kB 3.5MB/s eta 0:00:01\r\u001b[K     |█████████▎                      | 266kB 3.5MB/s eta 0:00:01\r\u001b[K     |█████████▋                      | 276kB 3.5MB/s eta 0:00:01\r\u001b[K     |██████████                      | 286kB 3.5MB/s eta 0:00:01\r\u001b[K     |██████████▎                     | 296kB 3.5MB/s eta 0:00:01\r\u001b[K     |██████████▊                     | 307kB 3.5MB/s eta 0:00:01\r\u001b[K     |███████████                     | 317kB 3.5MB/s eta 0:00:01\r\u001b[K     |███████████▍                    | 327kB 3.5MB/s eta 0:00:01\r\u001b[K     |███████████▊                    | 337kB 3.5MB/s eta 0:00:01\r\u001b[K     |████████████                    | 348kB 3.5MB/s eta 0:00:01\r\u001b[K     |████████████▌                   | 358kB 3.5MB/s eta 0:00:01\r\u001b[K     |████████████▉                   | 368kB 3.5MB/s eta 0:00:01\r\u001b[K     |█████████████▏                  | 378kB 3.5MB/s eta 0:00:01\r\u001b[K     |█████████████▌                  | 389kB 3.5MB/s eta 0:00:01\r\u001b[K     |██████████████                  | 399kB 3.5MB/s eta 0:00:01\r\u001b[K     |██████████████▎                 | 409kB 3.5MB/s eta 0:00:01\r\u001b[K     |██████████████▋                 | 419kB 3.5MB/s eta 0:00:01\r\u001b[K     |███████████████                 | 430kB 3.5MB/s eta 0:00:01\r\u001b[K     |███████████████▎                | 440kB 3.5MB/s eta 0:00:01\r\u001b[K     |███████████████▊                | 450kB 3.5MB/s eta 0:00:01\r\u001b[K     |████████████████                | 460kB 3.5MB/s eta 0:00:01\r\u001b[K     |████████████████▍               | 471kB 3.5MB/s eta 0:00:01\r\u001b[K     |████████████████▊               | 481kB 3.5MB/s eta 0:00:01\r\u001b[K     |█████████████████               | 491kB 3.5MB/s eta 0:00:01\r\u001b[K     |█████████████████▌              | 501kB 3.5MB/s eta 0:00:01\r\u001b[K     |█████████████████▉              | 512kB 3.5MB/s eta 0:00:01\r\u001b[K     |██████████████████▏             | 522kB 3.5MB/s eta 0:00:01\r\u001b[K     |██████████████████▌             | 532kB 3.5MB/s eta 0:00:01\r\u001b[K     |██████████████████▉             | 542kB 3.5MB/s eta 0:00:01\r\u001b[K     |███████████████████▎            | 552kB 3.5MB/s eta 0:00:01\r\u001b[K     |███████████████████▋            | 563kB 3.5MB/s eta 0:00:01\r\u001b[K     |████████████████████            | 573kB 3.5MB/s eta 0:00:01\r\u001b[K     |████████████████████▎           | 583kB 3.5MB/s eta 0:00:01\r\u001b[K     |████████████████████▋           | 593kB 3.5MB/s eta 0:00:01\r\u001b[K     |█████████████████████           | 604kB 3.5MB/s eta 0:00:01\r\u001b[K     |█████████████████████▍          | 614kB 3.5MB/s eta 0:00:01\r\u001b[K     |█████████████████████▊          | 624kB 3.5MB/s eta 0:00:01\r\u001b[K     |██████████████████████          | 634kB 3.5MB/s eta 0:00:01\r\u001b[K     |██████████████████████▍         | 645kB 3.5MB/s eta 0:00:01\r\u001b[K     |██████████████████████▉         | 655kB 3.5MB/s eta 0:00:01\r\u001b[K     |███████████████████████▏        | 665kB 3.5MB/s eta 0:00:01\r\u001b[K     |███████████████████████▌        | 675kB 3.5MB/s eta 0:00:01\r\u001b[K     |███████████████████████▉        | 686kB 3.5MB/s eta 0:00:01\r\u001b[K     |████████████████████████▏       | 696kB 3.5MB/s eta 0:00:01\r\u001b[K     |████████████████████████▋       | 706kB 3.5MB/s eta 0:00:01\r\u001b[K     |█████████████████████████       | 716kB 3.5MB/s eta 0:00:01\r\u001b[K     |█████████████████████████▎      | 727kB 3.5MB/s eta 0:00:01\r\u001b[K     |█████████████████████████▋      | 737kB 3.5MB/s eta 0:00:01\r\u001b[K     |██████████████████████████      | 747kB 3.5MB/s eta 0:00:01\r\u001b[K     |██████████████████████████▍     | 757kB 3.5MB/s eta 0:00:01\r\u001b[K     |██████████████████████████▊     | 768kB 3.5MB/s eta 0:00:01\r\u001b[K     |███████████████████████████     | 778kB 3.5MB/s eta 0:00:01\r\u001b[K     |███████████████████████████▍    | 788kB 3.5MB/s eta 0:00:01\r\u001b[K     |███████████████████████████▉    | 798kB 3.5MB/s eta 0:00:01\r\u001b[K     |████████████████████████████▏   | 808kB 3.5MB/s eta 0:00:01\r\u001b[K     |████████████████████████████▌   | 819kB 3.5MB/s eta 0:00:01\r\u001b[K     |████████████████████████████▉   | 829kB 3.5MB/s eta 0:00:01\r\u001b[K     |█████████████████████████████▏  | 839kB 3.5MB/s eta 0:00:01\r\u001b[K     |█████████████████████████████▋  | 849kB 3.5MB/s eta 0:00:01\r\u001b[K     |██████████████████████████████  | 860kB 3.5MB/s eta 0:00:01\r\u001b[K     |██████████████████████████████▎ | 870kB 3.5MB/s eta 0:00:01\r\u001b[K     |██████████████████████████████▋ | 880kB 3.5MB/s eta 0:00:01\r\u001b[K     |███████████████████████████████ | 890kB 3.5MB/s eta 0:00:01\r\u001b[K     |███████████████████████████████▍| 901kB 3.5MB/s eta 0:00:01\r\u001b[K     |███████████████████████████████▊| 911kB 3.5MB/s eta 0:00:01\r\u001b[K     |████████████████████████████████| 921kB 3.5MB/s \n",
            "\u001b[?25hRequirement already satisfied: pandas>=0.23.0 in /usr/local/lib/python3.6/dist-packages (from geopandas) (0.25.3)\n",
            "Collecting fiona\n",
            "\u001b[?25l  Downloading https://files.pythonhosted.org/packages/50/f7/9899f8a9a2e38601472fe1079ce5088f58833221c8b8507d8b5eafd5404a/Fiona-1.8.13-cp36-cp36m-manylinux1_x86_64.whl (11.8MB)\n",
            "\u001b[K     |████████████████████████████████| 11.8MB 196kB/s \n",
            "\u001b[?25hRequirement already satisfied: shapely in /usr/local/lib/python3.6/dist-packages (from geopandas) (1.6.4.post2)\n",
            "Collecting pyproj\n",
            "\u001b[?25l  Downloading https://files.pythonhosted.org/packages/d6/70/eedc98cd52b86de24a1589c762612a98bea26cde649ffdd60c1db396cce8/pyproj-2.4.2.post1-cp36-cp36m-manylinux2010_x86_64.whl (10.1MB)\n",
            "\u001b[K     |████████████████████████████████| 10.1MB 25.6MB/s \n",
            "\u001b[?25hRequirement already satisfied: numpy>=1.13.3 in /usr/local/lib/python3.6/dist-packages (from pandas>=0.23.0->geopandas) (1.17.4)\n",
            "Requirement already satisfied: pytz>=2017.2 in /usr/local/lib/python3.6/dist-packages (from pandas>=0.23.0->geopandas) (2018.9)\n",
            "Requirement already satisfied: python-dateutil>=2.6.1 in /usr/local/lib/python3.6/dist-packages (from pandas>=0.23.0->geopandas) (2.6.1)\n",
            "Requirement already satisfied: attrs>=17 in /usr/local/lib/python3.6/dist-packages (from fiona->geopandas) (19.3.0)\n",
            "Requirement already satisfied: click<8,>=4.0 in /usr/local/lib/python3.6/dist-packages (from fiona->geopandas) (7.0)\n",
            "Collecting munch\n",
            "  Downloading https://files.pythonhosted.org/packages/cc/ab/85d8da5c9a45e072301beb37ad7f833cd344e04c817d97e0cc75681d248f/munch-2.5.0-py2.py3-none-any.whl\n",
            "Collecting cligj>=0.5\n",
            "  Downloading https://files.pythonhosted.org/packages/e4/be/30a58b4b0733850280d01f8bd132591b4668ed5c7046761098d665ac2174/cligj-0.5.0-py3-none-any.whl\n",
            "Requirement already satisfied: six>=1.7 in /usr/local/lib/python3.6/dist-packages (from fiona->geopandas) (1.12.0)\n",
            "Collecting click-plugins>=1.0\n",
            "  Downloading https://files.pythonhosted.org/packages/e9/da/824b92d9942f4e472702488857914bdd50f73021efea15b4cad9aca8ecef/click_plugins-1.1.1-py2.py3-none-any.whl\n",
            "Installing collected packages: munch, cligj, click-plugins, fiona, pyproj, geopandas\n",
            "Successfully installed click-plugins-1.1.1 cligj-0.5.0 fiona-1.8.13 geopandas-0.6.2 munch-2.5.0 pyproj-2.4.2.post1\n",
            "     Id    name  ...   Area_km                                           geometry\n",
            "0     9  Holmul  ...  0.132514  POLYGON ((13115.703 21070.882, 12951.583 20915...\n",
            "1     9  Holmul  ...  0.522244  POLYGON ((12216.589 19306.797, 11842.934 19024...\n",
            "2     9  Holmul  ...  1.128794  POLYGON ((11645.846 17898.671, 9269.770 16664....\n",
            "3     9  Holmul  ...  1.330541  POLYGON ((7677.639 18706.305, 7271.343 17959.8...\n",
            "4     9  Holmul  ...  6.670637  POLYGON ((11870.893 16613.948, 11458.949 16299...\n",
            "..   ..     ...  ...       ...                                                ...\n",
            "257  15  Tintal  ...  0.045775  POLYGON ((-71616.788 26666.924, -71605.655 266...\n",
            "258  15  Tintal  ...  0.151473  POLYGON ((-74560.006 26976.538, -74558.506 269...\n",
            "259  15  Tintal  ...  0.054620  POLYGON ((-72659.440 27757.713, -72656.208 277...\n",
            "260  15  Tintal  ...  0.020547  POLYGON ((-73740.138 25284.295, -73737.786 252...\n",
            "261  15  Tintal  ...  0.056613  POLYGON ((-73374.763 27339.067, -73374.293 273...\n",
            "\n",
            "[262 rows x 6 columns]\n"
          ],
          "name": "stdout"
        }
      ]
    },
    {
      "cell_type": "code",
      "metadata": {
        "colab_type": "code",
        "id": "cDm_LrmGfrvS",
        "colab": {}
      },
      "source": [
        "import fiona\n",
        "shape = fiona.open(\"PLI ground replication.shp\")\n",
        "CPLE_OpenFailedError: b'Unable to open PLI ground replication.shx or PLI ground replication.SHX.Try --config SHAPE_RESTORE_SHX true to restore or create it'"
      ],
      "execution_count": 0,
      "outputs": []
    },
    {
      "cell_type": "code",
      "metadata": {
        "id": "HR0wACvsMoUh",
        "colab_type": "code",
        "outputId": "e0e4a6e7-227f-4786-f5e3-12f4704d9df2",
        "colab": {
          "base_uri": "https://localhost:8080/",
          "height": 306
        }
      },
      "source": [
        "len(sf.shape(\"PLI ground replication.shp\"))"
      ],
      "execution_count": 13,
      "outputs": [
        {
          "output_type": "error",
          "ename": "ShapefileException",
          "evalue": "ignored",
          "traceback": [
            "\u001b[0;31m---------------------------------------------------------------------------\u001b[0m",
            "\u001b[0;31mShapefileException\u001b[0m                        Traceback (most recent call last)",
            "\u001b[0;32m<ipython-input-13-36d4adb3824a>\u001b[0m in \u001b[0;36m<module>\u001b[0;34m()\u001b[0m\n\u001b[0;32m----> 1\u001b[0;31m \u001b[0mlen\u001b[0m\u001b[0;34m(\u001b[0m\u001b[0msf\u001b[0m\u001b[0;34m.\u001b[0m\u001b[0mshape\u001b[0m\u001b[0;34m(\u001b[0m\u001b[0;34m\"PLI ground replication.shp\"\u001b[0m\u001b[0;34m)\u001b[0m\u001b[0;34m)\u001b[0m\u001b[0;34m\u001b[0m\u001b[0;34m\u001b[0m\u001b[0m\n\u001b[0m",
            "\u001b[0;32m/usr/local/lib/python3.6/dist-packages/shapefile.py\u001b[0m in \u001b[0;36mshape\u001b[0;34m(self, i)\u001b[0m\n\u001b[1;32m    843\u001b[0m         \"\"\"Returns a shape object for a shape in the the geometry\n\u001b[1;32m    844\u001b[0m         record file.\"\"\"\n\u001b[0;32m--> 845\u001b[0;31m         \u001b[0mshp\u001b[0m \u001b[0;34m=\u001b[0m \u001b[0mself\u001b[0m\u001b[0;34m.\u001b[0m\u001b[0m__getFileObj\u001b[0m\u001b[0;34m(\u001b[0m\u001b[0mself\u001b[0m\u001b[0;34m.\u001b[0m\u001b[0mshp\u001b[0m\u001b[0;34m)\u001b[0m\u001b[0;34m\u001b[0m\u001b[0;34m\u001b[0m\u001b[0m\n\u001b[0m\u001b[1;32m    846\u001b[0m         \u001b[0mi\u001b[0m \u001b[0;34m=\u001b[0m \u001b[0mself\u001b[0m\u001b[0;34m.\u001b[0m\u001b[0m__restrictIndex\u001b[0m\u001b[0;34m(\u001b[0m\u001b[0mi\u001b[0m\u001b[0;34m)\u001b[0m\u001b[0;34m\u001b[0m\u001b[0;34m\u001b[0m\u001b[0m\n\u001b[1;32m    847\u001b[0m         \u001b[0moffset\u001b[0m \u001b[0;34m=\u001b[0m \u001b[0mself\u001b[0m\u001b[0;34m.\u001b[0m\u001b[0m__shapeIndex\u001b[0m\u001b[0;34m(\u001b[0m\u001b[0mi\u001b[0m\u001b[0;34m)\u001b[0m\u001b[0;34m\u001b[0m\u001b[0;34m\u001b[0m\u001b[0m\n",
            "\u001b[0;32m/usr/local/lib/python3.6/dist-packages/shapefile.py\u001b[0m in \u001b[0;36m__getFileObj\u001b[0;34m(self, f)\u001b[0m\n\u001b[1;32m    704\u001b[0m         available. If not a ShapefileException is raised.\"\"\"\n\u001b[1;32m    705\u001b[0m         \u001b[0;32mif\u001b[0m \u001b[0;32mnot\u001b[0m \u001b[0mf\u001b[0m\u001b[0;34m:\u001b[0m\u001b[0;34m\u001b[0m\u001b[0;34m\u001b[0m\u001b[0m\n\u001b[0;32m--> 706\u001b[0;31m             \u001b[0;32mraise\u001b[0m \u001b[0mShapefileException\u001b[0m\u001b[0;34m(\u001b[0m\u001b[0;34m\"Shapefile Reader requires a shapefile or file-like object.\"\u001b[0m\u001b[0;34m)\u001b[0m\u001b[0;34m\u001b[0m\u001b[0;34m\u001b[0m\u001b[0m\n\u001b[0m\u001b[1;32m    707\u001b[0m         \u001b[0;32mif\u001b[0m \u001b[0mself\u001b[0m\u001b[0;34m.\u001b[0m\u001b[0mshp\u001b[0m \u001b[0;32mand\u001b[0m \u001b[0mself\u001b[0m\u001b[0;34m.\u001b[0m\u001b[0mshpLength\u001b[0m \u001b[0;32mis\u001b[0m \u001b[0;32mNone\u001b[0m\u001b[0;34m:\u001b[0m\u001b[0;34m\u001b[0m\u001b[0;34m\u001b[0m\u001b[0m\n\u001b[1;32m    708\u001b[0m             \u001b[0mself\u001b[0m\u001b[0;34m.\u001b[0m\u001b[0mload\u001b[0m\u001b[0;34m(\u001b[0m\u001b[0;34m)\u001b[0m\u001b[0;34m\u001b[0m\u001b[0;34m\u001b[0m\u001b[0m\n",
            "\u001b[0;31mShapefileException\u001b[0m: Shapefile Reader requires a shapefile or file-like object."
          ]
        }
      ]
    }
  ]
}