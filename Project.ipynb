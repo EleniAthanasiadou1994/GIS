{
  "nbformat": 4,
  "nbformat_minor": 0,
  "metadata": {
    "colab": {
      "name": "Welcome To Colaboratory",
      "provenance": [],
      "collapsed_sections": [],
      "include_colab_link": true
    },
    "kernelspec": {
      "display_name": "Python 3",
      "name": "python3"
    }
  },
  "cells": [
    {
      "cell_type": "markdown",
      "metadata": {
        "id": "view-in-github",
        "colab_type": "text"
      },
      "source": [
        "<a href=\"https://colab.research.google.com/github/EleniAthanasiadou1994/GIS/blob/master/Project.ipynb\" target=\"_parent\"><img src=\"https://colab.research.google.com/assets/colab-badge.svg\" alt=\"Open In Colab\"/></a>"
      ]
    },
    {
      "cell_type": "code",
      "metadata": {
        "id": "yxwwNdL7h9RS",
        "colab_type": "code",
        "outputId": "f4f3a37c-3976-4675-e98c-5975338a6a44",
        "colab": {
          "base_uri": "https://localhost:8080/",
          "height": 51
        }
      },
      "source": [
        "import folium\n",
        "import branca\n",
        "import pandas as pd\n",
        "print(folium.__file__)\n",
        "print(folium.__version__)"
      ],
      "execution_count": 1,
      "outputs": [
        {
          "output_type": "stream",
          "text": [
            "/usr/local/lib/python3.6/dist-packages/folium/__init__.py\n",
            "0.8.3\n"
          ],
          "name": "stdout"
        }
      ]
    },
    {
      "cell_type": "code",
      "metadata": {
        "id": "MMZyWcBBiCmH",
        "colab_type": "code",
        "outputId": "f4ea90e0-813d-4389-b68d-3f6648f4932c",
        "colab": {
          "base_uri": "https://localhost:8080/",
          "height": 204
        }
      },
      "source": [
        "Ground_Replication = pd.read_csv(\"PLI_ground_replication.csv\")\n",
        "\n",
        "Ground_Replication.head()"
      ],
      "execution_count": 3,
      "outputs": [
        {
          "output_type": "execute_result",
          "data": {
            "text/html": [
              "<div>\n",
              "<style scoped>\n",
              "    .dataframe tbody tr th:only-of-type {\n",
              "        vertical-align: middle;\n",
              "    }\n",
              "\n",
              "    .dataframe tbody tr th {\n",
              "        vertical-align: top;\n",
              "    }\n",
              "\n",
              "    .dataframe thead th {\n",
              "        text-align: right;\n",
              "    }\n",
              "</style>\n",
              "<table border=\"1\" class=\"dataframe\">\n",
              "  <thead>\n",
              "    <tr style=\"text-align: right;\">\n",
              "      <th></th>\n",
              "      <th>X</th>\n",
              "      <th>Y</th>\n",
              "      <th>Id</th>\n",
              "      <th>name</th>\n",
              "      <th>Type</th>\n",
              "      <th>PLI</th>\n",
              "      <th>Area_km</th>\n",
              "    </tr>\n",
              "  </thead>\n",
              "  <tbody>\n",
              "    <tr>\n",
              "      <th>0</th>\n",
              "      <td>12821.444207</td>\n",
              "      <td>21318.627335</td>\n",
              "      <td>9</td>\n",
              "      <td>Holmul</td>\n",
              "      <td>Pre-lidar</td>\n",
              "      <td>y</td>\n",
              "      <td>0.132514</td>\n",
              "    </tr>\n",
              "    <tr>\n",
              "      <th>1</th>\n",
              "      <td>11602.007612</td>\n",
              "      <td>19563.521595</td>\n",
              "      <td>9</td>\n",
              "      <td>Holmul</td>\n",
              "      <td>Pre-lidar</td>\n",
              "      <td>y</td>\n",
              "      <td>0.522244</td>\n",
              "    </tr>\n",
              "    <tr>\n",
              "      <th>2</th>\n",
              "      <td>10294.543352</td>\n",
              "      <td>17419.103481</td>\n",
              "      <td>9</td>\n",
              "      <td>Holmul</td>\n",
              "      <td>Pre-lidar</td>\n",
              "      <td>y</td>\n",
              "      <td>1.128794</td>\n",
              "    </tr>\n",
              "    <tr>\n",
              "      <th>3</th>\n",
              "      <td>6975.028077</td>\n",
              "      <td>18333.063571</td>\n",
              "      <td>9</td>\n",
              "      <td>Holmul</td>\n",
              "      <td>Pre-lidar</td>\n",
              "      <td>y</td>\n",
              "      <td>1.330541</td>\n",
              "    </tr>\n",
              "    <tr>\n",
              "      <th>4</th>\n",
              "      <td>9494.519395</td>\n",
              "      <td>14952.678332</td>\n",
              "      <td>9</td>\n",
              "      <td>Holmul</td>\n",
              "      <td>Pre-lidar</td>\n",
              "      <td>y</td>\n",
              "      <td>6.670637</td>\n",
              "    </tr>\n",
              "  </tbody>\n",
              "</table>\n",
              "</div>"
            ],
            "text/plain": [
              "              X             Y  Id    name       Type PLI   Area_km\n",
              "0  12821.444207  21318.627335   9  Holmul  Pre-lidar   y  0.132514\n",
              "1  11602.007612  19563.521595   9  Holmul  Pre-lidar   y  0.522244\n",
              "2  10294.543352  17419.103481   9  Holmul  Pre-lidar   y  1.128794\n",
              "3   6975.028077  18333.063571   9  Holmul  Pre-lidar   y  1.330541\n",
              "4   9494.519395  14952.678332   9  Holmul  Pre-lidar   y  6.670637"
            ]
          },
          "metadata": {
            "tags": []
          },
          "execution_count": 3
        }
      ]
    },
    {
      "cell_type": "code",
      "metadata": {
        "id": "w_xNPJhbju8B",
        "colab_type": "code",
        "colab": {}
      },
      "source": [
        "location = Ground_Replication['X'].mean(), Ground_Replication['Y'].mean()\n",
        "m = folium.Map(location=location,zoom_start=10)\n",
        "for i in range(0,len(Ground_Replication)):\n",
        "    folium.Marker([Ground_Replication['X'].iloc[i],Ground_Replication['Y'].iloc[i]]).add_to(m)"
      ],
      "execution_count": 0,
      "outputs": []
    },
    {
      "cell_type": "code",
      "metadata": {
        "id": "gerrYt1cjLjd",
        "colab_type": "code",
        "outputId": "a07e7d08-bede-4306-dbbe-f888cc5be448",
        "colab": {
          "base_uri": "https://localhost:8080/",
          "height": 204
        }
      },
      "source": [
        "Ground_Replication_DEM = Ground_Replication[(Ground_Replication['name']==\"Holmul\")]\n",
        "\n",
        "Ground_Replication_DEM.head()"
      ],
      "execution_count": 6,
      "outputs": [
        {
          "output_type": "execute_result",
          "data": {
            "text/html": [
              "<div>\n",
              "<style scoped>\n",
              "    .dataframe tbody tr th:only-of-type {\n",
              "        vertical-align: middle;\n",
              "    }\n",
              "\n",
              "    .dataframe tbody tr th {\n",
              "        vertical-align: top;\n",
              "    }\n",
              "\n",
              "    .dataframe thead th {\n",
              "        text-align: right;\n",
              "    }\n",
              "</style>\n",
              "<table border=\"1\" class=\"dataframe\">\n",
              "  <thead>\n",
              "    <tr style=\"text-align: right;\">\n",
              "      <th></th>\n",
              "      <th>X</th>\n",
              "      <th>Y</th>\n",
              "      <th>Id</th>\n",
              "      <th>name</th>\n",
              "      <th>Type</th>\n",
              "      <th>PLI</th>\n",
              "      <th>Area_km</th>\n",
              "    </tr>\n",
              "  </thead>\n",
              "  <tbody>\n",
              "    <tr>\n",
              "      <th>0</th>\n",
              "      <td>12821.444207</td>\n",
              "      <td>21318.627335</td>\n",
              "      <td>9</td>\n",
              "      <td>Holmul</td>\n",
              "      <td>Pre-lidar</td>\n",
              "      <td>y</td>\n",
              "      <td>0.132514</td>\n",
              "    </tr>\n",
              "    <tr>\n",
              "      <th>1</th>\n",
              "      <td>11602.007612</td>\n",
              "      <td>19563.521595</td>\n",
              "      <td>9</td>\n",
              "      <td>Holmul</td>\n",
              "      <td>Pre-lidar</td>\n",
              "      <td>y</td>\n",
              "      <td>0.522244</td>\n",
              "    </tr>\n",
              "    <tr>\n",
              "      <th>2</th>\n",
              "      <td>10294.543352</td>\n",
              "      <td>17419.103481</td>\n",
              "      <td>9</td>\n",
              "      <td>Holmul</td>\n",
              "      <td>Pre-lidar</td>\n",
              "      <td>y</td>\n",
              "      <td>1.128794</td>\n",
              "    </tr>\n",
              "    <tr>\n",
              "      <th>3</th>\n",
              "      <td>6975.028077</td>\n",
              "      <td>18333.063571</td>\n",
              "      <td>9</td>\n",
              "      <td>Holmul</td>\n",
              "      <td>Pre-lidar</td>\n",
              "      <td>y</td>\n",
              "      <td>1.330541</td>\n",
              "    </tr>\n",
              "    <tr>\n",
              "      <th>4</th>\n",
              "      <td>9494.519395</td>\n",
              "      <td>14952.678332</td>\n",
              "      <td>9</td>\n",
              "      <td>Holmul</td>\n",
              "      <td>Pre-lidar</td>\n",
              "      <td>y</td>\n",
              "      <td>6.670637</td>\n",
              "    </tr>\n",
              "  </tbody>\n",
              "</table>\n",
              "</div>"
            ],
            "text/plain": [
              "              X             Y  Id    name       Type PLI   Area_km\n",
              "0  12821.444207  21318.627335   9  Holmul  Pre-lidar   y  0.132514\n",
              "1  11602.007612  19563.521595   9  Holmul  Pre-lidar   y  0.522244\n",
              "2  10294.543352  17419.103481   9  Holmul  Pre-lidar   y  1.128794\n",
              "3   6975.028077  18333.063571   9  Holmul  Pre-lidar   y  1.330541\n",
              "4   9494.519395  14952.678332   9  Holmul  Pre-lidar   y  6.670637"
            ]
          },
          "metadata": {
            "tags": []
          },
          "execution_count": 6
        }
      ]
    }
  ]
}