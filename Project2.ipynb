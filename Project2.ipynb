{
  "nbformat": 4,
  "nbformat_minor": 0,
  "metadata": {
    "colab": {
      "name": "Welcome To Colaboratory",
      "provenance": [],
      "collapsed_sections": [],
      "include_colab_link": true
    },
    "kernelspec": {
      "display_name": "Python 3",
      "name": "python3"
    }
  },
  "cells": [
    {
      "cell_type": "markdown",
      "metadata": {
        "id": "view-in-github",
        "colab_type": "text"
      },
      "source": [
        "<a href=\"https://colab.research.google.com/github/EleniAthanasiadou1994/GIS/blob/master/Project2.ipynb\" target=\"_parent\"><img src=\"https://colab.research.google.com/assets/colab-badge.svg\" alt=\"Open In Colab\"/></a>"
      ]
    },
    {
      "cell_type": "code",
      "metadata": {
        "id": "yxwwNdL7h9RS",
        "colab_type": "code",
        "outputId": "85c803f6-04dd-498d-cdd2-e05c753a3fbd",
        "colab": {
          "base_uri": "https://localhost:8080/",
          "height": 51
        }
      },
      "source": [
        "import folium\n",
        "import branca\n",
        "import pandas as pd\n",
        "print(folium.__file__)\n",
        "print(folium.__version__)"
      ],
      "execution_count": 8,
      "outputs": [
        {
          "output_type": "stream",
          "text": [
            "/usr/local/lib/python3.6/dist-packages/folium/__init__.py\n",
            "0.8.3\n"
          ],
          "name": "stdout"
        }
      ]
    },
    {
      "cell_type": "code",
      "metadata": {
        "id": "MMZyWcBBiCmH",
        "colab_type": "code",
        "outputId": "2ea568ca-4da7-40be-c3ac-a1d31e53d454",
        "colab": {
          "base_uri": "https://localhost:8080/",
          "height": 204
        }
      },
      "source": [
        "Ground_Replication = pd.read_csv(\"All_causeways_xy.csv\")\n",
        "\n",
        "Ground_Replication.head()"
      ],
      "execution_count": 12,
      "outputs": [
        {
          "output_type": "execute_result",
          "data": {
            "text/html": [
              "<div>\n",
              "<style scoped>\n",
              "    .dataframe tbody tr th:only-of-type {\n",
              "        vertical-align: middle;\n",
              "    }\n",
              "\n",
              "    .dataframe tbody tr th {\n",
              "        vertical-align: top;\n",
              "    }\n",
              "\n",
              "    .dataframe thead th {\n",
              "        text-align: right;\n",
              "    }\n",
              "</style>\n",
              "<table border=\"1\" class=\"dataframe\">\n",
              "  <thead>\n",
              "    <tr style=\"text-align: right;\">\n",
              "      <th></th>\n",
              "      <th>X</th>\n",
              "      <th>Y</th>\n",
              "      <th>cat</th>\n",
              "      <th>Id</th>\n",
              "      <th>site</th>\n",
              "      <th>length</th>\n",
              "    </tr>\n",
              "  </thead>\n",
              "  <tbody>\n",
              "    <tr>\n",
              "      <th>0</th>\n",
              "      <td>-112118.424528</td>\n",
              "      <td>17179.619417</td>\n",
              "      <td>1</td>\n",
              "      <td>0</td>\n",
              "      <td>La Corona</td>\n",
              "      <td>294.252640</td>\n",
              "    </tr>\n",
              "    <tr>\n",
              "      <th>1</th>\n",
              "      <td>-112778.961656</td>\n",
              "      <td>17293.150886</td>\n",
              "      <td>2</td>\n",
              "      <td>0</td>\n",
              "      <td>La Corona</td>\n",
              "      <td>505.954660</td>\n",
              "    </tr>\n",
              "    <tr>\n",
              "      <th>2</th>\n",
              "      <td>-8753.058397</td>\n",
              "      <td>28351.458558</td>\n",
              "      <td>3</td>\n",
              "      <td>0</td>\n",
              "      <td>San Bartolo</td>\n",
              "      <td>5536.499089</td>\n",
              "    </tr>\n",
              "    <tr>\n",
              "      <th>3</th>\n",
              "      <td>-10239.761170</td>\n",
              "      <td>30876.421320</td>\n",
              "      <td>4</td>\n",
              "      <td>0</td>\n",
              "      <td>San Bartolo</td>\n",
              "      <td>468.144275</td>\n",
              "    </tr>\n",
              "    <tr>\n",
              "      <th>4</th>\n",
              "      <td>-11268.999445</td>\n",
              "      <td>31759.433838</td>\n",
              "      <td>5</td>\n",
              "      <td>0</td>\n",
              "      <td>San Bartolo</td>\n",
              "      <td>1998.328937</td>\n",
              "    </tr>\n",
              "  </tbody>\n",
              "</table>\n",
              "</div>"
            ],
            "text/plain": [
              "               X             Y  cat  Id         site       length\n",
              "0 -112118.424528  17179.619417    1   0    La Corona   294.252640\n",
              "1 -112778.961656  17293.150886    2   0    La Corona   505.954660\n",
              "2   -8753.058397  28351.458558    3   0  San Bartolo  5536.499089\n",
              "3  -10239.761170  30876.421320    4   0  San Bartolo   468.144275\n",
              "4  -11268.999445  31759.433838    5   0  San Bartolo  1998.328937"
            ]
          },
          "metadata": {
            "tags": []
          },
          "execution_count": 12
        }
      ]
    },
    {
      "cell_type": "code",
      "metadata": {
        "id": "w_xNPJhbju8B",
        "colab_type": "code",
        "colab": {}
      },
      "source": [
        "location = Ground_Replication['X'].mean(), Ground_Replication['Y'].mean()\n",
        "m = folium.Map(location=location,zoom_start=10)\n",
        "for i in range(0,len(Ground_Replication)):\n",
        "    folium.Marker([Ground_Replication['X'].iloc[i],Ground_Replication['Y'].iloc[i]]).add_to(m)"
      ],
      "execution_count": 0,
      "outputs": []
    },
    {
      "cell_type": "code",
      "metadata": {
        "id": "gerrYt1cjLjd",
        "colab_type": "code",
        "outputId": "93e1f711-55fa-45a2-c8bf-01c8fece1038",
        "colab": {
          "base_uri": "https://localhost:8080/",
          "height": 111
        }
      },
      "source": [
        "Ground_Replication_DEM = Ground_Replication[(Ground_Replication['site']==\"La Corona\")]\n",
        "\n",
        "Ground_Replication_DEM.head()"
      ],
      "execution_count": 20,
      "outputs": [
        {
          "output_type": "execute_result",
          "data": {
            "text/html": [
              "<div>\n",
              "<style scoped>\n",
              "    .dataframe tbody tr th:only-of-type {\n",
              "        vertical-align: middle;\n",
              "    }\n",
              "\n",
              "    .dataframe tbody tr th {\n",
              "        vertical-align: top;\n",
              "    }\n",
              "\n",
              "    .dataframe thead th {\n",
              "        text-align: right;\n",
              "    }\n",
              "</style>\n",
              "<table border=\"1\" class=\"dataframe\">\n",
              "  <thead>\n",
              "    <tr style=\"text-align: right;\">\n",
              "      <th></th>\n",
              "      <th>X</th>\n",
              "      <th>Y</th>\n",
              "      <th>cat</th>\n",
              "      <th>Id</th>\n",
              "      <th>site</th>\n",
              "      <th>length</th>\n",
              "    </tr>\n",
              "  </thead>\n",
              "  <tbody>\n",
              "    <tr>\n",
              "      <th>0</th>\n",
              "      <td>-112118.424528</td>\n",
              "      <td>17179.619417</td>\n",
              "      <td>1</td>\n",
              "      <td>0</td>\n",
              "      <td>La Corona</td>\n",
              "      <td>294.25264</td>\n",
              "    </tr>\n",
              "    <tr>\n",
              "      <th>1</th>\n",
              "      <td>-112778.961656</td>\n",
              "      <td>17293.150886</td>\n",
              "      <td>2</td>\n",
              "      <td>0</td>\n",
              "      <td>La Corona</td>\n",
              "      <td>505.95466</td>\n",
              "    </tr>\n",
              "  </tbody>\n",
              "</table>\n",
              "</div>"
            ],
            "text/plain": [
              "               X             Y  cat  Id       site     length\n",
              "0 -112118.424528  17179.619417    1   0  La Corona  294.25264\n",
              "1 -112778.961656  17293.150886    2   0  La Corona  505.95466"
            ]
          },
          "metadata": {
            "tags": []
          },
          "execution_count": 20
        }
      ]
    }
  ]
}